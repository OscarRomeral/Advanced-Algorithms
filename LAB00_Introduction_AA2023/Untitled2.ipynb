{
 "cells": [
  {
   "cell_type": "code",
   "execution_count": 1,
   "id": "7a374970-8b32-4e9a-a03f-c99960951fcb",
   "metadata": {
    "tags": []
   },
   "outputs": [],
   "source": [
    "hola = {'A': 10, 'B':20}"
   ]
  },
  {
   "cell_type": "code",
   "execution_count": 2,
   "id": "3bb9ef46-9dbb-4719-84cf-db218224766b",
   "metadata": {
    "tags": []
   },
   "outputs": [
    {
     "data": {
      "text/plain": [
       "2"
      ]
     },
     "execution_count": 2,
     "metadata": {},
     "output_type": "execute_result"
    }
   ],
   "source": [
    "len(hola)"
   ]
  },
  {
   "cell_type": "code",
   "execution_count": 15,
   "id": "f3b72ef0-4546-4191-9d05-4133fe5d478c",
   "metadata": {
    "tags": []
   },
   "outputs": [
    {
     "name": "stdout",
     "output_type": "stream",
     "text": [
      "..-.\n"
     ]
    }
   ],
   "source": [
    "\n",
    "math.log(10, 2)\n",
    "a = '..-'\n",
    "b = '..-..-.'\n",
    "if b.startswith(a):\n",
    "    c = b[len(a):]\n",
    "    print(c)\n"
   ]
  },
  {
   "cell_type": "code",
   "execution_count": null,
   "id": "90eaf2b7-cea4-423a-a898-887657619f4d",
   "metadata": {},
   "outputs": [],
   "source": []
  }
 ],
 "metadata": {
  "kernelspec": {
   "display_name": "Python 3 (ipykernel)",
   "language": "python",
   "name": "python3"
  },
  "language_info": {
   "codemirror_mode": {
    "name": "ipython",
    "version": 3
   },
   "file_extension": ".py",
   "mimetype": "text/x-python",
   "name": "python",
   "nbconvert_exporter": "python",
   "pygments_lexer": "ipython3",
   "version": "3.11.4"
  }
 },
 "nbformat": 4,
 "nbformat_minor": 5
}
