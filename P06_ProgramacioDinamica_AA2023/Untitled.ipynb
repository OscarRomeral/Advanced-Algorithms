{
 "cells": [
  {
   "cell_type": "code",
   "execution_count": 2,
   "id": "f9ce9cfb",
   "metadata": {},
   "outputs": [
    {
     "data": {
      "text/plain": [
       "3"
      ]
     },
     "execution_count": 2,
     "metadata": {},
     "output_type": "execute_result"
    }
   ],
   "source": [
    "def fib_rec(n):\n",
    "    if n == 0 or n == 1:\n",
    "        return n\n",
    "    else:\n",
    "        return fib_rec(n-1) + fib_rec(n-2)\n",
    "fib_rec(4)"
   ]
  },
  {
   "cell_type": "code",
   "execution_count": 3,
   "id": "987efbe4",
   "metadata": {},
   "outputs": [],
   "source": [
    "def fib_top_down(n, dp=None):\n",
    "    if dp is None:\n",
    "        dp = [0]*(n+1)\n",
    "    \n",
    "    if n == 0 or n == 1:\n",
    "        return n\n",
    "    \n",
    "    if dp[n] != 0:\n",
    "        return dp[n]\n",
    "    else:\n",
    "        dp[n] = fib_top_down(n-1, dp) + fib_top_down(n-2, dp)\n",
    "        return dp[n]"
   ]
  },
  {
   "cell_type": "code",
   "execution_count": 15,
   "id": "7a5943b8",
   "metadata": {},
   "outputs": [
    {
     "data": {
      "text/plain": [
       "21"
      ]
     },
     "execution_count": 15,
     "metadata": {},
     "output_type": "execute_result"
    }
   ],
   "source": [
    "def fib_bottom_up(n, dp=None):\n",
    "    \n",
    "    if n == 0 or n == 1:\n",
    "        return n \n",
    "    \n",
    "    if dp is None:\n",
    "        dp = [0]*(n+1)\n",
    "    \n",
    "    dp[0] = 0\n",
    "    dp[1] = 1\n",
    "    \n",
    "    for i in range(2, n+1):\n",
    "        dp[i] = dp[i-1] + dp[i-2]\n",
    "    return dp[n]\n",
    "\n",
    "\n",
    "fib_bottom_up(8)"
   ]
  },
  {
   "cell_type": "code",
   "execution_count": 23,
   "id": "edd6dc36",
   "metadata": {},
   "outputs": [],
   "source": [
    "def rod_cutting_rec(N, prices):\n",
    "    \"\"\"\n",
    "    Algorisme recursiu.\n",
    "    \n",
    "    Params\n",
    "    ======\n",
    "    :N: Un enter amb el nombre de segments de la barra\n",
    "    :prices: Una llista amb els preus de cada longitud de segment.\n",
    "    \n",
    "    Returns\n",
    "    =======\n",
    "    :best: El millor preu de venta de les peces\n",
    "    \"\"\"\n",
    "    \n",
    "    if N == 0:\n",
    "        return 0\n",
    "    if N == 1:\n",
    "        return prices[0]\n",
    "    maxim = -1\n",
    "    for i in range(0, N):\n",
    "        maxim = max(prices[N-i-1] + rod_cutting_rec(i, prices), maxim)\n",
    "        \n",
    "    return maxim"
   ]
  },
  {
   "cell_type": "code",
   "execution_count": 24,
   "id": "83c0cbb7",
   "metadata": {},
   "outputs": [
    {
     "data": {
      "text/plain": [
       "11"
      ]
     },
     "execution_count": 24,
     "metadata": {},
     "output_type": "execute_result"
    }
   ],
   "source": [
    "rod_cutting_rec(5, [1,5,5,6,7])"
   ]
  },
  {
   "cell_type": "code",
   "execution_count": 39,
   "id": "c079d03f",
   "metadata": {},
   "outputs": [],
   "source": [
    "def rod_cutting_dp_bottom_up(N, prices):\n",
    "    \"\"\"\n",
    "    Algorisme programació dinàmica bottom up.\n",
    "    \n",
    "    Params\n",
    "    ======\n",
    "    :N: Un enter amb el nombre de segments de la barra\n",
    "    :prices: Una llista amb els preus de cada longitud de segment.\n",
    "    \n",
    "    Returns\n",
    "    =======\n",
    "    :best: El millor preu de venta de les peces\n",
    "    \"\"\"\n",
    "     # Inicialitzem la memòria\n",
    "    dp = [0]*(N+1)\n",
    "    \n",
    "    # Recorrem total la llista resoldrem tots els subproblemes incrementalment\n",
    "    # començant pel cas on només tenim una peça i anant augmentant\n",
    "    for i in range(1,N+1):\n",
    "        max_val = -float('inf')\n",
    "        \n",
    "        # El màxim d'un subcas serà el màxim entre tots els subcasos anteriors.\n",
    "        # Amb l'ajuda d'aquest 'for' seleccionem el millor valor considerant:\n",
    "        # - Venem la peça prices[j]\n",
    "        # - Prenem el millor valor guardat a la taula per a la peça restant, dp[i-j-1]\n",
    "        for j in range(i):\n",
    "            max_val = max(max_val, prices[j] + dp[i-j-1])\n",
    "        \n",
    "        # Assignem el millor valor.\n",
    "        dp[i] = max_val\n",
    "    \n",
    "    print(dp)\n",
    "    return dp[N]"
   ]
  },
  {
   "cell_type": "code",
   "execution_count": 40,
   "id": "d354d141",
   "metadata": {},
   "outputs": [
    {
     "name": "stdout",
     "output_type": "stream",
     "text": [
      "[0, 1, 5, 6, 10, 11]\n"
     ]
    },
    {
     "data": {
      "text/plain": [
       "11"
      ]
     },
     "execution_count": 40,
     "metadata": {},
     "output_type": "execute_result"
    }
   ],
   "source": [
    "rod_cutting_dp_bottom_up(5, [1,5,5,6,7])"
   ]
  },
  {
   "cell_type": "code",
   "execution_count": 43,
   "id": "152e01f0",
   "metadata": {},
   "outputs": [],
   "source": [
    "def rod_cutting_dp_top_down(N, prices, dp=None):\n",
    "    \"\"\"\n",
    "    Algorisme programació dinàmica top down.\n",
    "    \n",
    "    Params\n",
    "    ======\n",
    "    :N: Un enter amb el nombre de segments de la barra\n",
    "    :prices: Una llista amb els preus de cada longitud de segment.\n",
    "    \n",
    "    Returns\n",
    "    =======\n",
    "    :best: El millor preu de venta de les peces\n",
    "    \"\"\"\n",
    "    \n",
    "    best = 0\n",
    "    \n",
    "    #Casos base\n",
    "    if N == 0:\n",
    "        return 0\n",
    "    if N == 1:\n",
    "        return prices[0]\n",
    "    \n",
    "    #Inicialitzem memòria\n",
    "    if dp == None:\n",
    "        dp = [0]*(N+1)\n",
    "        dp[1] = prices[0]\n",
    "       \n",
    "    #Cas en que ja ho tinguem calculat\n",
    "    if dp[N] != 0:\n",
    "        return dp[N]\n",
    "    #Cas contrari\n",
    "    for i in range(0, N):\n",
    "        best = max(prices[N-i-1] + rod_cutting_rec(i, prices), best)\n",
    "    dp[N] = best\n",
    "    \n",
    "    return best"
   ]
  },
  {
   "cell_type": "code",
   "execution_count": 44,
   "id": "2d05c3e5",
   "metadata": {},
   "outputs": [
    {
     "data": {
      "text/plain": [
       "11"
      ]
     },
     "execution_count": 44,
     "metadata": {},
     "output_type": "execute_result"
    }
   ],
   "source": [
    "rod_cutting_dp_top_down(5, [1,5,5,6,7])"
   ]
  },
  {
   "cell_type": "code",
   "execution_count": 47,
   "id": "6a1ad4dd",
   "metadata": {},
   "outputs": [],
   "source": [
    "def lis_ends_here(seq, n):\n",
    "    \"\"\"\n",
    "    Aquesta funció ens retorna la longitud de la seqüència més llarga que acaba a la posició 'n'.\n",
    "    \n",
    "    Params\n",
    "    ======\n",
    "    :seq: Llista d'elements\n",
    "    :n: Índex de la llista\n",
    "    \n",
    "    Returns\n",
    "    =======\n",
    "    :val: Longitud de la LIS suposant que finalitza a 'n'.\n",
    "    \"\"\"\n",
    "    if len(seq) == 1:\n",
    "        return 1\n",
    "    else:\n",
    "        vals = []\n",
    "        for i in range(1, len(seq)):\n",
    "            if seq[-1] > seq[-1-i]:\n",
    "                vals.append(1+lis_rec(seq[:-i]))\n",
    "            else:\n",
    "                vals.append(lis_rec(seq[:-i]))            \n",
    "        return max(vals)\n",
    "\n",
    "\n",
    "def lis_rec(seq):\n",
    "    \"\"\"\n",
    "    Solució recursiva al problema LIS.\n",
    "    \n",
    "    Params\n",
    "    ======\n",
    "    :seq: Seqüència inicial.\n",
    "    \n",
    "    Returns\n",
    "    =======\n",
    "    :val: Longitud de LIS.\n",
    "    \"\"\"\n",
    "   \n",
    "    return lis_ends_here(seq, len(seq))\n",
    "        "
   ]
  },
  {
   "cell_type": "code",
   "execution_count": 52,
   "id": "5d29e74d",
   "metadata": {},
   "outputs": [],
   "source": [
    "def lis_dp_bottom_up(seq):\n",
    "    dp = [0] * len(seq)\n",
    "    dp[0] = 1\n",
    "    for i in range(1, len(seq)):\n",
    "        if seq[i] <= seq[i-1]:\n",
    "            dp[i] = dp[i-1]\n",
    "        else:\n",
    "            dp[i] = 1 + dp[i-1]\n",
    "            \n",
    "    return dp[len(seq)-1]"
   ]
  },
  {
   "cell_type": "code",
   "execution_count": 55,
   "id": "fb48df09",
   "metadata": {},
   "outputs": [
    {
     "name": "stdout",
     "output_type": "stream",
     "text": [
      "9\n"
     ]
    },
    {
     "data": {
      "text/plain": [
       "2"
      ]
     },
     "execution_count": 55,
     "metadata": {},
     "output_type": "execute_result"
    }
   ],
   "source": [
    "print(lis_dp_bottom_up([1,2,0,9,3,5,4,6,8,14, 9, 5, 13, 37, 28]))\n",
    "lis_dp_bottom_up([4,1,2,1]) #return 2\n"
   ]
  },
  {
   "cell_type": "code",
   "execution_count": null,
   "id": "153ff45b",
   "metadata": {},
   "outputs": [],
   "source": [
    "#Problemes 7"
   ]
  },
  {
   "cell_type": "code",
   "execution_count": 116,
   "id": "337763cd",
   "metadata": {},
   "outputs": [],
   "source": [
    "def knapsack(W, weights, values, n):\n",
    "    \"\"\"\n",
    "    Implementa la solució al problema de la motxilla.\n",
    "\n",
    "    Params\n",
    "    ======\n",
    "    :W: Capacitat màxima de la motxilla\n",
    "    :weights : llista d'enters amb els pesos dels objectes\n",
    "    :values : llista d'enters amb els valors dels objectes\n",
    "    :n: numero d'objectes\n",
    "    \n",
    "    Returns\n",
    "    =======\n",
    "    :value: valor màxim que podem ficar dins la motxilla\n",
    "    \"\"\"\n",
    "    \n",
    "    #ATENCIO!! FER MATRIU SEMPRE AIXI\n",
    "    # NO fer servir [[0]*n]*m ja que crea copies de llistes de 0, i si variem un valor, varien tots!!!!\n",
    "    dp = [[0 for x in range(W+1)] for x in range (n+1)]\n",
    "    \n",
    "    for i in range(1, n+1):\n",
    "        for j in range (1, W+1):\n",
    "            if weights[i-1] > j:\n",
    "                dp[i][j] = dp[i-1][j]\n",
    "            else:\n",
    "                wk = weights[i-1]\n",
    "                dp[i][j] = max(values[i-1] + dp[i-1][j-wk], dp[i-1][j])\n",
    "    \n",
    "    print(dp)\n",
    "    return dp[n][W]\n",
    "            "
   ]
  },
  {
   "cell_type": "code",
   "execution_count": 118,
   "id": "707cb49f",
   "metadata": {},
   "outputs": [
    {
     "name": "stdout",
     "output_type": "stream",
     "text": [
      "[[0, 0, 0, 0, 0, 0, 0, 0, 0, 0, 0, 0, 0, 0, 0, 0, 0, 0, 0, 0, 0, 0, 0, 0, 0, 0, 0, 0, 0, 0, 0, 0, 0, 0, 0, 0, 0, 0, 0, 0, 0], [0, 0, 0, 0, 0, 0, 0, 0, 0, 0, 60, 60, 60, 60, 60, 60, 60, 60, 60, 60, 60, 60, 60, 60, 60, 60, 60, 60, 60, 60, 60, 60, 60, 60, 60, 60, 60, 60, 60, 60, 60], [0, 0, 0, 0, 0, 0, 0, 0, 0, 0, 60, 60, 60, 60, 60, 60, 60, 60, 60, 60, 100, 100, 100, 100, 100, 100, 100, 100, 100, 100, 160, 160, 160, 160, 160, 160, 160, 160, 160, 160, 160], [0, 0, 0, 0, 0, 0, 0, 0, 0, 0, 60, 60, 60, 60, 60, 60, 60, 60, 60, 60, 100, 100, 100, 100, 100, 100, 100, 100, 100, 100, 160, 160, 160, 160, 160, 160, 160, 160, 160, 160, 180]]\n",
      "180\n"
     ]
    }
   ],
   "source": [
    "W = 40\n",
    "values = [60, 100, 120]\n",
    "weights = [10, 20, 30]\n",
    "n = len(values)\n",
    "print(knapsack(W, weights, values, n))"
   ]
  },
  {
   "cell_type": "code",
   "execution_count": null,
   "id": "cf0e2e97",
   "metadata": {},
   "outputs": [],
   "source": []
  }
 ],
 "metadata": {
  "kernelspec": {
   "display_name": "Python 3 (ipykernel)",
   "language": "python",
   "name": "python3"
  },
  "language_info": {
   "codemirror_mode": {
    "name": "ipython",
    "version": 3
   },
   "file_extension": ".py",
   "mimetype": "text/x-python",
   "name": "python",
   "nbconvert_exporter": "python",
   "pygments_lexer": "ipython3",
   "version": "3.11.4"
  }
 },
 "nbformat": 4,
 "nbformat_minor": 5
}
