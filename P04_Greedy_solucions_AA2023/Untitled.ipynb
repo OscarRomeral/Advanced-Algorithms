{
 "cells": [
  {
   "cell_type": "raw",
   "id": "5df9b64d-c5ab-4f98-9437-4da9c12bbc0d",
   "metadata": {},
   "source": [
    "Problema 1: Retornar el canvi\n",
    "\n",
    "Escriu un algorisme que, donat un preu  𝑋  i un pagament  𝑃 , en euros, ens retorni el canvi. És a dir, quants bitllets i quantes monedes de cada valor cal retornar.\n",
    "\n",
    "Exemple:\n",
    "A l'executar change(30.75, 40) ha de retornar la llista [(5,1),(2,2),(0.20,1),(0.05,1)] ja que hem de retornar 1 bitllet de 5 euros, 2 monedes de 2 euros, 1 moneda de 20 cèntims i 1 moneda de 5 cèntims"
   ]
  },
  {
   "cell_type": "code",
   "execution_count": 50,
   "id": "80528aad-10bc-4397-ad0c-606e7b169d0e",
   "metadata": {
    "tags": []
   },
   "outputs": [],
   "source": [
    "\n",
    "def change(X, P, coins = [.01, .02, .05, .1, .2, .5, 1, 2, 5, 10, 20, 50, 100, 200, 500]):\n",
    "    \"\"\"\n",
    "    Soluciona el problema de retornar el canvi.\n",
    "    \n",
    "    Params\n",
    "    ======\n",
    "    :X: Preu \n",
    "    :P: Pagament. Ha de ser superior o igual a X.\n",
    "    :coins: Llista de monedes o bitllets de la moneda que estiguem considerant. Per defecte, euros.\n",
    "    \n",
    "    Returns\n",
    "    =======\n",
    "    :lst: Llista de monedes o bitllets i la quantitat de cada un d'ells amb el format següent. lst = [(value, quantity)] on:\n",
    "        :value: és un valor existent dins la llista 'coins'\n",
    "        :quantity: és el nombre de monedes/bitllets amb valor 'value'.\n",
    "    \n",
    "    \"\"\"\n",
    "    val_canvi = P - X\n",
    "    print(val_canvi)\n",
    "    canvi = {}\n",
    "    for valor in reversed(coins):\n",
    "        if valor <= val_canvi:\n",
    "            repetitions = val_canvi // valor\n",
    "            canvi[valor] = int(repetitions)\n",
    "            val_canvi = round(val_canvi - int(repetitions)*valor, 2)\n",
    "            print(val_canvi)\n",
    "    \n",
    "    return canvi"
   ]
  },
  {
   "cell_type": "code",
   "execution_count": 51,
   "id": "32bd3801-9821-4148-bff1-09db4e33c785",
   "metadata": {
    "tags": []
   },
   "outputs": [
    {
     "name": "stdout",
     "output_type": "stream",
     "text": [
      "9.25\n",
      "4.25\n",
      "0.25\n",
      "0.05\n",
      "0.0\n"
     ]
    },
    {
     "data": {
      "text/plain": [
       "{5: 1, 2: 2, 0.2: 1, 0.05: 1}"
      ]
     },
     "execution_count": 51,
     "metadata": {},
     "output_type": "execute_result"
    }
   ],
   "source": [
    "change(30.75,40)"
   ]
  },
  {
   "cell_type": "raw",
   "id": "50767b3a-1430-448d-bd3e-e88877cfdf07",
   "metadata": {},
   "source": [
    "Problema 2: Selecció d'activitats\n",
    "\n",
    "Donat un conjunt d'activitats amb la seva hora d'inici i la seva hora de finalització, trobar quin és el nombre màxim d'activitats que es pot realitzar suposant que només podem fer una activitat alhora."
   ]
  },
  {
   "cell_type": "code",
   "execution_count": 60,
   "id": "96d048c8-f9be-4e65-b6f5-cff2fef4c3cc",
   "metadata": {
    "tags": []
   },
   "outputs": [],
   "source": [
    "def task_selection(activities):\n",
    "    \"\"\"\n",
    "    Retorna les activitats que és possible realitzar\n",
    "    \n",
    "    Params\n",
    "    ======\n",
    "    :activities: Llista d'activitats disponibles. Cada parella (x,y) representa l'hora d'inici i de finalització de l'activitat\n",
    "    \n",
    "    Returns\n",
    "    =======\n",
    "    :act: Activitats que es poden realitzar\n",
    "    \"\"\"\n",
    "    \n",
    "    activities = sorted(activities, key=lambda x: x[1])\n",
    "    \n",
    "    fin_actual = 0\n",
    "    comp = -1\n",
    "    \n",
    "    act = []\n",
    "    while activities[-1][1] > fin_actual:\n",
    "        index = comp + 1\n",
    "        trobat = False\n",
    "        while not trobat:\n",
    "            if activities[index][0] >= fin_actual:\n",
    "                act.append(activities[index]) \n",
    "                trobat = True\n",
    "                comp = index\n",
    "                fin_actual = activities[index][1]\n",
    "            index += 1\n",
    "            \n",
    "    return act"
   ]
  },
  {
   "cell_type": "code",
   "execution_count": 61,
   "id": "95bc15ec-f333-4e4e-979a-d2e0393e7149",
   "metadata": {
    "tags": []
   },
   "outputs": [
    {
     "data": {
      "text/plain": [
       "[(1, 4), (5, 7), (8, 11), (12, 14)]"
      ]
     },
     "execution_count": 61,
     "metadata": {},
     "output_type": "execute_result"
    }
   ],
   "source": [
    "activities = [(1, 4), (3, 8), (8, 11), (12, 14), (8, 12), (3, 5), (5, 9), (2, 13), (6, 10), (5, 7), (0, 6)]\n",
    "task_selection(activities)"
   ]
  },
  {
   "cell_type": "raw",
   "id": "34a56d4c-4c09-4ca6-b75a-b355376cd99d",
   "metadata": {},
   "source": [
    "Problema 3: Problema de la motxilla\n",
    "\n",
    "Image\n",
    "Disposem d'una motxilla que té una capacitat màxima de  𝐾  quilos. Tenim una llista de  𝑛  elements  𝐸 , on cada element està representat per dos valors: el seu pes,  𝑤 , i el seu valor  𝑣 . És a dir:\n",
    "𝐸={(𝑤𝑒,𝑣𝑒),   ∀𝑒=1,…,𝑛}\n",
    "Volem maximitzar el valor de la motxilla, omplint-la amb els elements de  𝐸 . Concretament, volem trobar:\n",
    "max𝐴{𝐴⊂𝐸 | ∑𝑎∈𝐴𝑤𝑎≤𝐾}\n",
    "\n",
    "Implementa un algorisme greedy que trobi una solució al problema. Aquesta solució és òptima?"
   ]
  },
  {
   "cell_type": "code",
   "execution_count": null,
   "id": "643c4671-c97c-4001-badc-b9cbf7f77194",
   "metadata": {},
   "outputs": [],
   "source": [
    "def knapsack(K, E):\n",
    "    \"\"\"\n",
    "    Implementació del problema de la motxilla.\n",
    "    \n",
    "    Params\n",
    "    ======\n",
    "    :K: Pes màxim que la motxilla pot carregar\n",
    "    :E: Elements disponibles representats com una llista de tuples E=[(w,v)] on:\n",
    "        :w: Pes de l'objecte.\n",
    "        :v: Valor de l'objecte.\n",
    "        \n",
    "    Returns\n",
    "    =======    \n",
    "    :selected_elems: La llista dels elements escollits.\n",
    "    :total_weight: El pes total dels objectes que hem afegit.\n",
    "    :total_value: El valor total dels objectes que hem afegit.\n",
    "    \"\"\"\n",
    "    \n",
    "    #Calculem relacio valor/pes\n",
    "    rel = []\n",
    "    for element in E:\n",
    "        rel.append(element[0]/element[1])\n",
    "        \n",
    "    rel = sorted(rel)\n",
    "    \n",
    "    actual_weight = 0\n",
    "    while actual_weight + \n",
    "        \n",
    "    \n",
    "    return selected_elems, total_weight, total_value"
   ]
  }
 ],
 "metadata": {
  "kernelspec": {
   "display_name": "Python 3 (ipykernel)",
   "language": "python",
   "name": "python3"
  },
  "language_info": {
   "codemirror_mode": {
    "name": "ipython",
    "version": 3
   },
   "file_extension": ".py",
   "mimetype": "text/x-python",
   "name": "python",
   "nbconvert_exporter": "python",
   "pygments_lexer": "ipython3",
   "version": "3.11.4"
  }
 },
 "nbformat": 4,
 "nbformat_minor": 5
}
