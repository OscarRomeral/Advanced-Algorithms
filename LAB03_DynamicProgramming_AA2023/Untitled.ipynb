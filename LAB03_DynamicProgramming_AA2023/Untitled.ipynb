{
 "cells": [
  {
   "cell_type": "code",
   "execution_count": 8,
   "id": "59d53f8c-6c4a-4e74-a2fb-45ad3e6be179",
   "metadata": {
    "tags": []
   },
   "outputs": [
    {
     "data": {
      "text/plain": [
       "0"
      ]
     },
     "execution_count": 8,
     "metadata": {},
     "output_type": "execute_result"
    }
   ],
   "source": [
    "import numpy as np\n",
    "matriu = np.array([[1, 2, 1], [6, 4, 5]])\n",
    "matriu\n",
    "ind = np.argmin(matriu[0])\n",
    "ind"
   ]
  },
  {
   "cell_type": "code",
   "execution_count": 14,
   "id": "d8bee197-415a-4482-b720-498795da84e9",
   "metadata": {
    "tags": []
   },
   "outputs": [],
   "source": [
    "def expected_points(nVerd, nVerm):\n",
    "    if nVerd == 0:\n",
    "        return 0\n",
    "    if nVerd - nVerm > 0:\n",
    "        return 1\n",
    "    else:\n",
    "        return nVerm/(nVerd+nVerm)*expected_points(nVerd, nVerm-1) + nVerd/(nVerd+nVerm)* expected_points(nVerd-1, nVerm)\n",
    "    \n",
    "    \n",
    "    "
   ]
  },
  {
   "cell_type": "code",
   "execution_count": 17,
   "id": "fec68e11-063c-40c3-9a8b-5fcd11a2ebdc",
   "metadata": {
    "tags": []
   },
   "outputs": [
    {
     "data": {
      "text/plain": [
       "0.8"
      ]
     },
     "execution_count": 17,
     "metadata": {},
     "output_type": "execute_result"
    }
   ],
   "source": [
    "expected_points(4,4)"
   ]
  },
  {
   "cell_type": "code",
   "execution_count": 38,
   "id": "a9be4834-7406-40b4-b280-8c17e92e046c",
   "metadata": {
    "tags": []
   },
   "outputs": [
    {
     "data": {
      "text/plain": [
       "array([[1, 2],\n",
       "       [1, 3],\n",
       "       [1, 4]])"
      ]
     },
     "execution_count": 38,
     "metadata": {},
     "output_type": "execute_result"
    }
   ],
   "source": [
    "def superior_neighbors(mat, point):\n",
    "    \"\"\"\n",
    "    Donada una matriu de mida H x W i punt, retorna els punts de la fila superior adjacents al punt passat com a paràmetre.\n",
    "    Cal tenir en compte els següents casos. Considerant que el punt té coordenades (i,j):\n",
    "        - Si el punt té coordenada j=0, vol dir que estem agafant un punt del marge esquerre de la imatge. Només s'han de retornar DOS veïns.\n",
    "        - Si el punt té coordenada j=(W-1), vol dir que estem agafant un punt del marge dret de la imatge. Només s'han de retornar DOS veïns.\n",
    "        - En la resta de casos, es retornen els tres veïns superiors.\n",
    "        \n",
    "    Params\n",
    "    ======\n",
    "    :mat: Una matriu 2-Dimensional\n",
    "    :point: Un sol punt amb el format (i,j)\n",
    "    \n",
    "    Returns\n",
    "    =======\n",
    "    :neighbors: Una llista de dos o tres elements en funció de cada cas.\n",
    "    \"\"\"\n",
    "    list_neighbors = []\n",
    "    i = point[0]\n",
    "    j = point[1]\n",
    "    if i < mat.shape[0] and j < mat.shape[1]:\n",
    "        if i != 0:\n",
    "            if j == 0:\n",
    "                list_neighbors.append((i-1,j))\n",
    "                list_neighbors.append((i-1,j+1))\n",
    "            elif j == mat.shape[1] - 1:\n",
    "                list_neighbors.append((i-1,j-1))\n",
    "                list_neighbors.append((i-1,j))\n",
    "            else:\n",
    "                list_neighbors.append((i-1,j-1))\n",
    "                list_neighbors.append((i-1,j))\n",
    "                list_neighbors.append((i-1,j+1))\n",
    "        \n",
    "    neighbors = np.array(list_neighbors)\n",
    "    return neighbors\n",
    "\n",
    "        \n",
    "mat=np.array([[1,2,3, 4, 5, 7], [2,23,5, 8, 9, 1], [5,3,4, 2, 2, 2]])\n",
    "val=superior_neighbors(mat, (2,3))\n",
    "val"
   ]
  },
  {
   "cell_type": "code",
   "execution_count": 51,
   "id": "f662c0d9-44d4-43e2-a7ca-5e62bd266eb4",
   "metadata": {
    "tags": []
   },
   "outputs": [
    {
     "data": {
      "text/plain": [
       "array([[0, 0],\n",
       "       [3, 4]])"
      ]
     },
     "execution_count": 51,
     "metadata": {},
     "output_type": "execute_result"
    }
   ],
   "source": [
    "a = np.array([[1,2],[3,4]])\n",
    "a[a[:,:]<3] = 0\n",
    "a"
   ]
  },
  {
   "cell_type": "code",
   "execution_count": 45,
   "id": "495134f4-486c-4f21-8435-4aa998378218",
   "metadata": {
    "tags": []
   },
   "outputs": [
    {
     "name": "stdout",
     "output_type": "stream",
     "text": [
      "[1 2 3 4]\n"
     ]
    }
   ],
   "source": [
    "existing_array = np.array([], dtype=object)\n",
    "\n",
    "# Tuple to append\n",
    "# Append the tuple to the existing array\n",
    "new_array = np.append(existing_array, [(1,2)])\n",
    "new_array = np.append(new_array, [(3,4)])\n",
    "\n",
    "print(new_array)"
   ]
  },
  {
   "cell_type": "code",
   "execution_count": 46,
   "id": "22029902-1c5d-464c-95f6-3dd75b8f2ad7",
   "metadata": {
    "tags": []
   },
   "outputs": [
    {
     "ename": "ValueError",
     "evalue": "all the input arrays must have same number of dimensions, but the array at index 0 has 1 dimension(s) and the array at index 1 has 2 dimension(s)",
     "output_type": "error",
     "traceback": [
      "\u001b[0;31m---------------------------------------------------------------------------\u001b[0m",
      "\u001b[0;31mValueError\u001b[0m                                Traceback (most recent call last)",
      "Cell \u001b[0;32mIn[46], line 8\u001b[0m\n\u001b[1;32m      6\u001b[0m \u001b[38;5;66;03m# Append each tuple to the array\u001b[39;00m\n\u001b[1;32m      7\u001b[0m \u001b[38;5;28;01mfor\u001b[39;00m new_tuple \u001b[38;5;129;01min\u001b[39;00m new_tuples:\n\u001b[0;32m----> 8\u001b[0m     array_de_tuplas \u001b[38;5;241m=\u001b[39m np\u001b[38;5;241m.\u001b[39mappend(array_de_tuplas, [new_tuple], axis\u001b[38;5;241m=\u001b[39m\u001b[38;5;241m0\u001b[39m)\n\u001b[1;32m     10\u001b[0m \u001b[38;5;28mprint\u001b[39m(array_de_tuplas)\n",
      "File \u001b[0;32m<__array_function__ internals>:200\u001b[0m, in \u001b[0;36mappend\u001b[0;34m(*args, **kwargs)\u001b[0m\n",
      "File \u001b[0;32m~/anaconda3/lib/python3.11/site-packages/numpy/lib/function_base.py:5499\u001b[0m, in \u001b[0;36mappend\u001b[0;34m(arr, values, axis)\u001b[0m\n\u001b[1;32m   5497\u001b[0m     values \u001b[38;5;241m=\u001b[39m ravel(values)\n\u001b[1;32m   5498\u001b[0m     axis \u001b[38;5;241m=\u001b[39m arr\u001b[38;5;241m.\u001b[39mndim\u001b[38;5;241m-\u001b[39m\u001b[38;5;241m1\u001b[39m\n\u001b[0;32m-> 5499\u001b[0m \u001b[38;5;28;01mreturn\u001b[39;00m concatenate((arr, values), axis\u001b[38;5;241m=\u001b[39maxis)\n",
      "File \u001b[0;32m<__array_function__ internals>:200\u001b[0m, in \u001b[0;36mconcatenate\u001b[0;34m(*args, **kwargs)\u001b[0m\n",
      "\u001b[0;31mValueError\u001b[0m: all the input arrays must have same number of dimensions, but the array at index 0 has 1 dimension(s) and the array at index 1 has 2 dimension(s)"
     ]
    }
   ],
   "source": [
    "array_de_tuplas = np.array([], dtype=object)\n",
    "\n",
    "# Tuples to append\n",
    "new_tuples = [(1, 2), (3, 4), (5, 6)]\n",
    "\n",
    "# Append each tuple to the array\n",
    "for new_tuple in new_tuples:\n",
    "    array_de_tuplas = np.append(array_de_tuplas, [new_tuple], axis=0)\n",
    "\n",
    "print(array_de_tuplas)"
   ]
  },
  {
   "cell_type": "code",
   "execution_count": 30,
   "id": "054eca7e-321b-48bf-9e3a-97640486085e",
   "metadata": {
    "tags": []
   },
   "outputs": [
    {
     "name": "stdout",
     "output_type": "stream",
     "text": [
      "False\n"
     ]
    }
   ],
   "source": [
    "list_de_tuplas = []\n",
    "\n",
    "# Tuples to append\n",
    "new_tuples = [(1, 2), (3, 4), (5, 6)]\n",
    "\n",
    "# Append each tuple to the list\n",
    "for new_tuple in new_tuples:\n",
    "    list_de_tuplas.append(new_tuple)\n",
    "\n",
    "# Convert the list to a NumPy array\n",
    "array_de_tuplas = np.array([], dtype=object)\n",
    "\n",
    "print(np.any(array_de_tuplas))"
   ]
  },
  {
   "cell_type": "code",
   "execution_count": 27,
   "id": "1910cc1d-744a-428d-a237-4bfbd912608e",
   "metadata": {},
   "outputs": [
    {
     "data": {
      "text/plain": [
       "array([1, 2])"
      ]
     },
     "execution_count": 27,
     "metadata": {},
     "output_type": "execute_result"
    }
   ],
   "source": [
    "a = np.array([[1,2,2,1],[1,3,4,5]])\n",
    "b = np.where(a[0] == 2)\n",
    "b[0]"
   ]
  },
  {
   "cell_type": "code",
   "execution_count": 26,
   "id": "864eedc9-4c31-4e4c-affb-b857bec4c613",
   "metadata": {
    "tags": []
   },
   "outputs": [
    {
     "name": "stdout",
     "output_type": "stream",
     "text": [
      "(array([2]),)\n",
      "Index of 30 : 2\n"
     ]
    }
   ],
   "source": [
    "import numpy as np\n",
    "\n",
    "# Example 1-dimensional NumPy array\n",
    "my_array = np.array([10, 20, 30, 40, 50])\n",
    "target_value = 30\n",
    "\n",
    "# Find the index where the target value occurs in the array\n",
    "indices = np.where(my_array == target_value)\n",
    "print(indices)\n",
    "# Print the result\n",
    "if indices[0].size > 0:\n",
    "    print(\"Index of\", target_value, \":\", indices[0][0])\n",
    "else:\n",
    "    print(target_value, \"not found in the array.\")"
   ]
  },
  {
   "cell_type": "code",
   "execution_count": null,
   "id": "c2b20e41-1b8c-49de-9abe-666bd099e8e2",
   "metadata": {},
   "outputs": [],
   "source": [
    "def superior_neighbors(mat, point):\n",
    "    \"\"\"\n",
    "    Donada una matriu de mida H x W i punt, retorna els punts de la fila superior adjacents al punt passat com a paràmetre.\n",
    "    Cal tenir en compte els següents casos. Considerant que el punt té coordenades (i,j):\n",
    "        - Si el punt té coordenada j=0, vol dir que estem agafant un punt del marge esquerre de la imatge. Només s'han de retornar DOS veïns.\n",
    "        - Si el punt té coordenada j=(W-1), vol dir que estem agafant un punt del marge dret de la imatge. Només s'han de retornar DOS veïns.\n",
    "        - En la resta de casos, es retornen els tres veïns superiors.\n",
    "        \n",
    "    Params\n",
    "    ======\n",
    "    :mat: Una matriu 2-Dimensional\n",
    "    :point: Un sol punt amb el format (i,j)\n",
    "    \n",
    "    Returns\n",
    "    =======\n",
    "    :neighbors: Una llista de dos o tres elements en funció de cada cas.\n",
    "    \"\"\"\n",
    "    list_neighbors = []\n",
    "    i = point[0]\n",
    "    j = point[1]\n",
    "    if i < mat.shape[0] and j < mat.shape[1]:\n",
    "        if i != 0:\n",
    "            if j == 0:\n",
    "                list_neighbors.append(mat[i-1][j])\n",
    "                list_neighbors.append(mat[i-1][j+1])\n",
    "            elif j == mat.shape[1] - 1:\n",
    "                list_neighbors.append(mat[i-1][j-1])\n",
    "                list_neighbors.append(mat[i-1][j])\n",
    "            else:\n",
    "                list_neighbors.append(mat[i-1][j-1])\n",
    "                list_neighbors.append(mat[i-1][j])\n",
    "                list_neighbors.append(mat[i-1][j+1])\n",
    "        \n",
    "    neighbors = np.array(list_neighbors)\n",
    "    return neighbors\n",
    "\n",
    "\n",
    "def minimal_paths(mat):\n",
    "    \"\"\"\n",
    "    Creació de tots els camins mínims usant programació dinàmica.\n",
    "    Cal usar la funció 'superior_neighbors' per trobar els veïns.\n",
    "    \n",
    "    Params\n",
    "    ======\n",
    "    :mat: Matriu 2-Dimensional d'entrada (gradient)\n",
    "    \n",
    "    Returns\n",
    "    =======\n",
    "    :ret: Matriu 2-Dimensional de la mateixa mida que 'mat' amb els camins mínims calculats.\n",
    "    \"\"\"\n",
    "    \n",
    "    ret = mat.copy()\n",
    "    \n",
    "    H = mat.shape[0]\n",
    "    W = mat.shape[1]\n",
    "    for i in range(H):\n",
    "        for j in range(W):\n",
    "            neighbors = superior_neighbors(mat, (i,j))\n",
    "            if np.any(neighbors):\n",
    "                ret += min(neighbors)\n",
    "    return ret\n",
    "\n",
    "\n",
    "def find_min_path(mat):\n",
    "    \"\"\"\n",
    "    Donada una matriu, calcula el camí mínim sobre aquesta. L'algorisme ha de començar per la part inferior i buscar el següents punts.\n",
    "    \n",
    "    Params\n",
    "    ======\n",
    "    :mat: Matriu de camins mínims\n",
    "    \n",
    "    Returns\n",
    "    =======\n",
    "    :min_path: Una llista de tuples amb les coordenades (i,j) del camí mínim. La primera coordenada ha d'anar decrementant sempre en 1.\n",
    "               Exemple. Suposant que una imatge té d'alçada 341 píxels, un possible camí seria: [(340, 120), (339, 121), (338,120), ..., (0, 151)] \n",
    "    \"\"\"\n",
    "    \n",
    "    \n",
    "    H = mat.shape[0]\n",
    "    W = mat.shape[1]\n",
    "    \n",
    "    min_path = []\n",
    "    \n",
    "    minimal_total_gradient_bottom = min(mat[H-1]) #Busquem el valor de gradient acumulat minim de la ultima fila\n",
    "    possible_min_values = np.where(mat[H-1] == minimal_total_gradient_bottom)[0] #Busquem el index d'aquest valor i posem un [0] ja que pot ser que més d'un element de la úñtima fila tingui el mateix gradient minim acumulat, prenem el primer valor que ens retorna (arbitrari)\n",
    "    min_path.append((H-1, possible_min_values[0]))\n",
    "    for i in range(1, H):\n",
    "        print(min_path)\n",
    "        minimal_neig_value = min(superior_neighbors(mat, min_path[-1]))\n",
    "        poss_min_values = np.where(mat[H-i] == minimal_neig_value)[0]\n",
    "        min_path.append((H-i, poss_min_values[0]))\n",
    "    \n",
    "    \n",
    "    return min_path\n",
    "\n",
    "\n",
    "\n",
    "def delete_path(im, path):\n",
    "    \"\"\"\n",
    "    Donat una imatge i un camí, elimina els pixels de la imatge que pertanyen del camí.\n",
    "    Podeu usar la següent instrucció per inicialitzar la imatge. Això crea una imatge amb tots els valors a zero.\n",
    "    \n",
    "    im_new = np.zeros((im.shape[0], im.shape[1]-1, im.shape[2]))\n",
    "    \n",
    "    Params\n",
    "    ======\n",
    "    :im: Una imatge de mida H x W x 3\n",
    "    :path: Un camí sobre la imatge. \n",
    "    \n",
    "    Returns\n",
    "    =======\n",
    "    :im_new: Una nova imatge de mida H x (W-1) x 3 amb el camí eliminat\n",
    "    \"\"\"\n",
    "    \n",
    "    im_new = np.zeros((im.shape[0], im.shape[1]-1, im.shape[2]))\n",
    "                        \n",
    "    for k in range(im.shape[2]):\n",
    "        for i in range(im.shape[0]):\n",
    "            for j in range(im.shape[1]):\n",
    "                if j < path[im.shape[0]-i][1]: #Comparem el valor de la columna amb el valor de la columna de l'index que està guardat al path per aquesta fila, recordem que els hem guardat en ordre ascendent, per això accedim d'aquesta manera\n",
    "                    im_new[i][j][k] = im[i][j][k]\n",
    "                elif j > path[im.shape[0]-i][1]:\n",
    "                    im_new[i][j-1][k] = im[i][j][k]\n",
    "    \n",
    "    return im_new\n",
    "\n",
    "\n",
    "def reduce_image(im, N=100):    \n",
    "    \"\"\"\n",
    "    Implementació de l'algorisme Seam Carving. \n",
    "    Useu la funció 'show_row' al finalitzar per mostrar una figura amb tres subfigures:\n",
    "        - Imatge original\n",
    "        - Primer camí que s'elimina\n",
    "        - Imatge resultant després de N iteracions\n",
    "    \n",
    "    Params\n",
    "    ======\n",
    "    :im: Imatge que volem reduir\n",
    "    :N: Nombre de cops que repetirem l'algorisme\n",
    "    \"\"\"\n",
    "    gradient = get_gradient(im)\n",
    "    all_min_paths = minimal_paths(gradient)\n",
    "    minimal_path = find_min_path(all_min_paths)\n",
    "    im_path = im.copy()\n",
    "    im_path = add_min_path(im_path, minimal_path)\n",
    "    # Usem la funció show_row per mostrar les imatges amb els seus títols.\n",
    "    im_titles = [(im, 'Original'), (im_path, 'Minimal path')]\n",
    "    show_row(im_titles)\n",
    "    \n",
    "    im_new = delete_path(im, minimal_path)\n",
    "                           \n",
    "    pass"
   ]
  }
 ],
 "metadata": {
  "kernelspec": {
   "display_name": "Python 3 (ipykernel)",
   "language": "python",
   "name": "python3"
  },
  "language_info": {
   "codemirror_mode": {
    "name": "ipython",
    "version": 3
   },
   "file_extension": ".py",
   "mimetype": "text/x-python",
   "name": "python",
   "nbconvert_exporter": "python",
   "pygments_lexer": "ipython3",
   "version": "3.11.4"
  }
 },
 "nbformat": 4,
 "nbformat_minor": 5
}
